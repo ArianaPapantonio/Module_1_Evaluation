{
 "cells": [
  {
   "cell_type": "markdown",
   "metadata": {},
   "source": [
    "Creación de la clase: "
   ]
  },
  {
   "cell_type": "code",
   "execution_count": 23,
   "metadata": {},
   "outputs": [],
   "source": [
    "#Creo la clase y defino los atributos:\n",
    "class TiendaOnline: \n",
    "\n",
    "    def __init__(self):\n",
    "        \n",
    "        self.inventario = [] \n",
    "        self.clientes = {} \n",
    "        self.ventas_totales = 0\n",
    "    \n",
    "  # Primer Método - Agregar producto: creo un método para agregar productos al inventario: \n",
    "\n",
    "    def agregar_producto(self, nombre_producto, precio, cantidad): \n",
    "\n",
    "        #Creo la variable producto para representarlo como un diccionario que se incluirá en la lista. \n",
    "        producto = {'nombre': nombre_producto, 'precio': precio, 'cantidad': cantidad}\n",
    "\n",
    "        #Itero por los diccionarios (i) del inventario para actualizar la cantidad del producto a añadir: \n",
    "        for i in self.inventario: \n",
    "            if i['nombre'] == producto['nombre']: \n",
    "                i['cantidad'] += producto['cantidad']\n",
    "                print(f'La cantidad de {nombre_producto} ha sido actualizada. Ahora hay {i[\"cantidad\"]} {nombre_producto}.')\n",
    "                break\n",
    "        #Si el producto no está en el inventario, se añade a la lista. \n",
    "        else:\n",
    "            self.inventario.append(producto)\n",
    "            print('El producto se ha añadido al inventario.')\n",
    "\n",
    "\n",
    "  # Segundo Método - Ver inventario: creo un método para mostrar los productos del inventario: \n",
    "\n",
    "    def ver_inventario(self):\n",
    "\n",
    "        #Imprimo título:\n",
    "        print('Inventario disponible:')\n",
    "        #Creo un bucle for para que recorra cada diccionario (i) e imprima cada una de las claves del diccionario (nombre, precio y cantidad)\n",
    "        for i in self.inventario:\n",
    "            print(f\"Nombre: {i['nombre']}, Precio: ${i['precio']}, Cantidad: {i['cantidad']}\")\n",
    "        \n",
    "       \n",
    "\n",
    "  # Tercer Método - Buscar productos: creo un método para buscar productos en el inventario: \n",
    "    \n",
    "    def buscar_producto(self,nombre): \n",
    "\n",
    "        #Creo un bucle for para que itere en cada diccionario de la lista. Si el diccionario (i) en su clave 'nombre' coincide con el nombre proporcionado en la función, se imprimen los detalles:\n",
    "        for i in self.inventario:  \n",
    "\n",
    "          if i['nombre'] == nombre:\n",
    "            print(f\"Nombre: {i['nombre']}, Precio: ${i['precio']}, Cantidad: {i['cantidad']}.\")\n",
    "            break \n",
    "\n",
    "        else: \n",
    "            print('El producto no se encuentra en el inventario')\n",
    "         \n",
    "\n",
    "  # Cuarto Método - Actualizar stock: creo un método para actualizar el stock de un producto:\n",
    "\n",
    "    def actualizar_stock(self,nombre,cantidad): \n",
    "        \n",
    "        #Creo un bucle for para verificar si dentro de cada diccionarios (i) el nombre coincide con el proporcionado por el usuario. De ser asi, se añade la cantidad proporcionada. \n",
    "        for i in self.inventario: \n",
    "            \n",
    "            if i['nombre'] == nombre: \n",
    "                i['cantidad'] += cantidad\n",
    "                print(f\"Se ha actualizado el stock del producto. La cantidad disponible actualmente es de: {i['cantidad']} {i['nombre']}.\")\n",
    "                break \n",
    "            \n",
    "        else:\n",
    "           print('El producto no se encuentra en el inventario.')\n",
    "\n",
    "\n",
    "# Quinto Método - Eliminar producto: creo un método para eliminar un producto del inventario: \n",
    "\n",
    "    def eliminar_producto(self,nombre):\n",
    "       \n",
    "      #Creo un bucle for para que verifique si el producto está en el inventario. Si es así, se elimina y se envia mensaje de confirmación. \n",
    "      for i in self.inventario: \n",
    "           \n",
    "           if i['nombre'] == nombre: \n",
    "               self.inventario.remove(i) \n",
    "               print(f\"El producto: {i['nombre']} se ha eliminado del inventario.\")\n",
    "               break\n",
    "      else: \n",
    "          print('El producto no se encuentra en el inventario.')\n",
    "\n",
    "\n",
    "# Sexto Método - Calcular valor inventario: creo un método para calcular el valor total del inventario:\n",
    "\n",
    "    def calcular_valor_inventario(self):\n",
    "     \n",
    "     #Cre una variable para almacenar el total de los valores del inventario: \n",
    "     suma_valores = 0\n",
    "     \n",
    "     #Creo un bucle for para que itere por cada diccionario (i) + Creo variable 'multi' para que multiplique la cantidad por el precio de cada producto. Luego eso se añade a la variable 'suma_valores'.\n",
    "     for i in self.inventario:\n",
    "        multi = i['cantidad'] * i['precio']\n",
    "        suma_valores += multi\n",
    "     #Imprimo a la altura del for para evitar que aparezca una linea por cada multiplicación. \n",
    "     print(f'El valor total del inventario es de ${suma_valores}.') \n",
    "\n",
    "# Séptimo Método - Realizar compra: el cliente realiza una compra. Se actualiza el inventario, se registran los productos en un carrito y se obtiene el total de la compra. \n",
    "\n",
    "    def realizar_compra(self):\n",
    "        #Creo dos variables vacías: 'carrito' (lista vacia para añadir los productos) y 'total_compra' para que se sume el total de la compra. \n",
    "        carrito = []\n",
    "        total_compra = 0\n",
    "        \n",
    "        #Creo un bucle while para que el bucle se ejecute hasta que el usuario finalice la compra. \n",
    "        while True:\n",
    "            \n",
    "            self.ver_inventario()\n",
    "            \n",
    "            seleccion_usuario = input(\"Escoge un producto del inventario o indica 'salir' para finalizar la compra: \")\n",
    "            \n",
    "            if seleccion_usuario == 'salir':\n",
    "                break\n",
    "            \n",
    "            #Creo un bucle for para que verifique si el producto seleccionado coincide con la clave 'nombre' de los productos del inventario. Si es asi, se solicita la cantidad al usuario. \n",
    "            for i in self.inventario:\n",
    "                if i['nombre'] == seleccion_usuario:\n",
    "                    cantidad = int(input(f\"¿Cuántos {seleccion_usuario} deseas comprar?: \"))\n",
    "\n",
    "                    #Utilizo if para verificar si la cantidad disponible en el inventario es mayor a la que solicitó el usuario. Si hay suficiente, se calcula el total de la compra y se añade el producto al carrito. \n",
    "                    if i['cantidad'] >= cantidad:\n",
    "                        total_compra += i['precio'] * cantidad\n",
    "                        i['cantidad'] -= cantidad\n",
    "                        carrito.append({'nombre': i['nombre'], 'precio': i['precio'], 'cantidad': cantidad}) \n",
    "\n",
    "                        print('Añadido al carrito')\n",
    "                    else:\n",
    "                        print('No hay stock suficiente')\n",
    "                    break\n",
    "            else:\n",
    "                print('El producto no ha sido encontrado')\n",
    "\n",
    "        print(f\"Los productos seleccionados son: {carrito}. El total de la compra es de ${total_compra}.\")\n",
    "\n",
    "\n",
    "# Octavo Método - Procesar pago: Procesa el pago de la compra, calcula el cambio y muestra un mensaje de confirmación: \n",
    "\n",
    "    \n",
    "    def procesar_pago(self): \n",
    "\n",
    "        #Creo bucle para que el usuario ingrese una cantidad hasta que sea válida.       \n",
    "        while True: \n",
    "            \n",
    "            #Solicito al usuario el total de la compra (float para decimales) y el pago. Utilizo if para comprobar si el pago es menor que la cantidad total (en ese caso se indica que vuelva a ingresar una cantidad válida y un continue para reiniciar el bucle)\n",
    "            try: \n",
    "                total = float(input('Indica el total de la compra'))\n",
    "                pago = float(input('Ingresa el pago'))\n",
    " \n",
    "                if pago < total: \n",
    "                    print('La cantidad ingresada es inferior al monto total de la compra. Por favor, ingresa una cantidad válida.')\n",
    "                    continue \n",
    "\n",
    "                cambio = pago - total \n",
    "                print(f'Pago aceptado. El total de la compra es ${total}. El pago realizado es de ${pago}. El cambio es de ${cambio}.')\n",
    "                break \n",
    "\n",
    "            #Si el user ingresa un dato que no es válido, se imprime el mensaje de error. \n",
    "            except ValueError:\n",
    "                print('La cantidad ingresada no es un número válido')\n",
    "\n",
    "# Noveno Método - Agregar cliente: agrega un nuevo cliente al registro de clientes.\n",
    " \n",
    "    def agregar_cliente(self,nombre,email): \n",
    "        \n",
    "        #Utilizo el nombre como key del diccionario (para que no se sobreescriba en cada entrada) y el email como value. \n",
    "        self.clientes[nombre] = email\n",
    "        \n",
    "        print(f\"Se ha añadido el cliente: {nombre} y su correo electrónico: {email}\")\n",
    "\n",
    "# Décimo Método - Ver clientes: muestra la lista de clientes registrados con sus nombres y correos electrónicos.\n",
    "\n",
    "    def ver_clientes(self):\n",
    "        \n",
    "        #Imprimo 'Listado de clientes' para describir la lista que va a continuación.\n",
    "        print('Listado de clientes:')\n",
    "    \n",
    "        #Creo un bucle for para que imprima clave (i) y valor del diccionario (b): \n",
    "        for i,b in self.clientes.items():\n",
    "            print(f\"Nombre: {i} - Correo elecrónico: {b}\")\n",
    "\n",
    "# Onceavo Método - Registrar compra: registra una compra para un cliente, actualiza las ventas totales y agrega la compra al historial del cliente. Debe recibir el nombre del cliente y el carrito de compras como parámetros.\n",
    "\n",
    "    def registrar_compra(self, nombre_cliente, carrito):\n",
    "\n",
    "        #Creo una variable vacía para rellenarla con el historial de compras del cliente. \n",
    "        historial = []\n",
    "        #Utilizo If para comprobar si el nombre del cliente no está en el listado. \n",
    "        if nombre_cliente not in self.clientes: \n",
    "            print('El cliente no se encuentra en el listado.')\n",
    "\n",
    "        #Si el nombre del cliente está en el listado, creo una variable para verificar el total de la compra. \n",
    "        else: \n",
    "            total_compra = 0\n",
    "\n",
    "            #Creo un bucle for para que itere por cada elemento (i) dentro del carrito. Creo variables para guardar el nombre, precio y cantidad del producto. \n",
    "            for i in carrito: \n",
    "                nombre = i['nombre']\n",
    "                precio = i['precio']\n",
    "                cantidad = i['cantidad']\n",
    "\n",
    "            #Calculo el total de la compra multiplicando el precio del producto por la cantidad. \n",
    "            total_compra += precio * cantidad\n",
    "\n",
    "            #Se añaden los detalles de la compra a la variable historial.\n",
    "            historial.append({'nombre': nombre, 'cantidad': cantidad, 'precio': precio})\n",
    "\n",
    "        #Se añade la compra a las ventas totales:\n",
    "        self.ventas_totales += total_compra\n",
    "\n",
    "        print(f'El total de la compra es de ${total_compra}')\n",
    "        print(f'El historial del cliente {nombre_cliente} es: {historial}')"
   ]
  },
  {
   "cell_type": "code",
   "execution_count": 24,
   "metadata": {},
   "outputs": [],
   "source": [
    "#Almaceno la clase en una variable\n",
    "\n",
    "veterinaria = TiendaOnline()"
   ]
  },
  {
   "cell_type": "markdown",
   "metadata": {},
   "source": [
    "Práctica método 1: "
   ]
  },
  {
   "cell_type": "code",
   "execution_count": 25,
   "metadata": {},
   "outputs": [
    {
     "name": "stdout",
     "output_type": "stream",
     "text": [
      "El producto se ha añadido al inventario.\n"
     ]
    }
   ],
   "source": [
    "veterinaria.agregar_producto('correas', 30, 10)"
   ]
  },
  {
   "cell_type": "code",
   "execution_count": 26,
   "metadata": {},
   "outputs": [
    {
     "data": {
      "text/plain": [
       "{'inventario': [{'nombre': 'correas', 'precio': 30, 'cantidad': 10}],\n",
       " 'clientes': {},\n",
       " 'ventas_totales': 0}"
      ]
     },
     "execution_count": 26,
     "metadata": {},
     "output_type": "execute_result"
    }
   ],
   "source": [
    "veterinaria.__dict__"
   ]
  },
  {
   "cell_type": "code",
   "execution_count": 27,
   "metadata": {},
   "outputs": [
    {
     "name": "stdout",
     "output_type": "stream",
     "text": [
      "La cantidad de correas ha sido actualizada. Ahora hay 30 correas.\n"
     ]
    }
   ],
   "source": [
    "veterinaria.agregar_producto('correas',30,20)"
   ]
  },
  {
   "cell_type": "code",
   "execution_count": 28,
   "metadata": {},
   "outputs": [
    {
     "data": {
      "text/plain": [
       "{'inventario': [{'nombre': 'correas', 'precio': 30, 'cantidad': 30}],\n",
       " 'clientes': {},\n",
       " 'ventas_totales': 0}"
      ]
     },
     "execution_count": 28,
     "metadata": {},
     "output_type": "execute_result"
    }
   ],
   "source": [
    "veterinaria.__dict__"
   ]
  },
  {
   "cell_type": "code",
   "execution_count": 29,
   "metadata": {},
   "outputs": [
    {
     "name": "stdout",
     "output_type": "stream",
     "text": [
      "El producto se ha añadido al inventario.\n"
     ]
    }
   ],
   "source": [
    "veterinaria.agregar_producto('pienso', 40, 50)"
   ]
  },
  {
   "cell_type": "code",
   "execution_count": 30,
   "metadata": {},
   "outputs": [
    {
     "name": "stdout",
     "output_type": "stream",
     "text": [
      "El producto se ha añadido al inventario.\n"
     ]
    }
   ],
   "source": [
    "veterinaria.agregar_producto('juguetes', 20, 10)"
   ]
  },
  {
   "cell_type": "code",
   "execution_count": 31,
   "metadata": {},
   "outputs": [
    {
     "data": {
      "text/plain": [
       "{'inventario': [{'nombre': 'correas', 'precio': 30, 'cantidad': 30},\n",
       "  {'nombre': 'pienso', 'precio': 40, 'cantidad': 50},\n",
       "  {'nombre': 'juguetes', 'precio': 20, 'cantidad': 10}],\n",
       " 'clientes': {},\n",
       " 'ventas_totales': 0}"
      ]
     },
     "execution_count": 31,
     "metadata": {},
     "output_type": "execute_result"
    }
   ],
   "source": [
    "veterinaria.__dict__"
   ]
  },
  {
   "cell_type": "markdown",
   "metadata": {},
   "source": [
    "Práctica método 2: "
   ]
  },
  {
   "cell_type": "code",
   "execution_count": 32,
   "metadata": {},
   "outputs": [
    {
     "name": "stdout",
     "output_type": "stream",
     "text": [
      "Inventario disponible:\n",
      "Nombre: correas, Precio: $30, Cantidad: 30\n",
      "Nombre: pienso, Precio: $40, Cantidad: 50\n",
      "Nombre: juguetes, Precio: $20, Cantidad: 10\n"
     ]
    }
   ],
   "source": [
    "veterinaria.ver_inventario()"
   ]
  },
  {
   "cell_type": "markdown",
   "metadata": {},
   "source": [
    "Práctica método 3: "
   ]
  },
  {
   "cell_type": "code",
   "execution_count": 33,
   "metadata": {},
   "outputs": [
    {
     "name": "stdout",
     "output_type": "stream",
     "text": [
      "Nombre: correas, Precio: $30, Cantidad: 30.\n"
     ]
    }
   ],
   "source": [
    "veterinaria.buscar_producto('correas')"
   ]
  },
  {
   "cell_type": "code",
   "execution_count": 34,
   "metadata": {},
   "outputs": [
    {
     "name": "stdout",
     "output_type": "stream",
     "text": [
      "El producto no se encuentra en el inventario\n"
     ]
    }
   ],
   "source": [
    "veterinaria.buscar_producto('manzana')"
   ]
  },
  {
   "cell_type": "code",
   "execution_count": 35,
   "metadata": {},
   "outputs": [
    {
     "data": {
      "text/plain": [
       "{'inventario': [{'nombre': 'correas', 'precio': 30, 'cantidad': 30},\n",
       "  {'nombre': 'pienso', 'precio': 40, 'cantidad': 50},\n",
       "  {'nombre': 'juguetes', 'precio': 20, 'cantidad': 10}],\n",
       " 'clientes': {},\n",
       " 'ventas_totales': 0}"
      ]
     },
     "execution_count": 35,
     "metadata": {},
     "output_type": "execute_result"
    }
   ],
   "source": [
    "veterinaria.__dict__"
   ]
  },
  {
   "cell_type": "markdown",
   "metadata": {},
   "source": [
    "Práctica método 4:"
   ]
  },
  {
   "cell_type": "code",
   "execution_count": 36,
   "metadata": {},
   "outputs": [
    {
     "name": "stdout",
     "output_type": "stream",
     "text": [
      "Se ha actualizado el stock del producto. La cantidad disponible actualmente es de: 50 correas.\n"
     ]
    }
   ],
   "source": [
    "veterinaria.actualizar_stock('correas', 20)"
   ]
  },
  {
   "cell_type": "code",
   "execution_count": 37,
   "metadata": {},
   "outputs": [
    {
     "name": "stdout",
     "output_type": "stream",
     "text": [
      "El producto no se encuentra en el inventario.\n"
     ]
    }
   ],
   "source": [
    "veterinaria.actualizar_stock('banana',4)"
   ]
  },
  {
   "cell_type": "markdown",
   "metadata": {},
   "source": [
    "Práctica método 5:"
   ]
  },
  {
   "cell_type": "code",
   "execution_count": 38,
   "metadata": {},
   "outputs": [
    {
     "name": "stdout",
     "output_type": "stream",
     "text": [
      "El producto: juguetes se ha eliminado del inventario.\n"
     ]
    }
   ],
   "source": [
    "veterinaria.eliminar_producto('juguetes')"
   ]
  },
  {
   "cell_type": "code",
   "execution_count": 39,
   "metadata": {},
   "outputs": [
    {
     "name": "stdout",
     "output_type": "stream",
     "text": [
      "El producto no se encuentra en el inventario.\n"
     ]
    }
   ],
   "source": [
    "veterinaria.eliminar_producto('golosinas')"
   ]
  },
  {
   "cell_type": "code",
   "execution_count": 40,
   "metadata": {},
   "outputs": [
    {
     "data": {
      "text/plain": [
       "{'inventario': [{'nombre': 'correas', 'precio': 30, 'cantidad': 50},\n",
       "  {'nombre': 'pienso', 'precio': 40, 'cantidad': 50}],\n",
       " 'clientes': {},\n",
       " 'ventas_totales': 0}"
      ]
     },
     "execution_count": 40,
     "metadata": {},
     "output_type": "execute_result"
    }
   ],
   "source": [
    "veterinaria.__dict__"
   ]
  },
  {
   "cell_type": "markdown",
   "metadata": {},
   "source": [
    "Práctica método 6:"
   ]
  },
  {
   "cell_type": "code",
   "execution_count": 41,
   "metadata": {},
   "outputs": [
    {
     "name": "stdout",
     "output_type": "stream",
     "text": [
      "El valor total del inventario es de $3500.\n"
     ]
    }
   ],
   "source": [
    "veterinaria.calcular_valor_inventario()"
   ]
  },
  {
   "cell_type": "code",
   "execution_count": 42,
   "metadata": {},
   "outputs": [
    {
     "name": "stdout",
     "output_type": "stream",
     "text": [
      "El producto se ha añadido al inventario.\n",
      "El producto se ha añadido al inventario.\n"
     ]
    }
   ],
   "source": [
    "#Añado más productos para la práctica de los siguientes métodos: \n",
    "\n",
    "veterinaria.agregar_producto('vacuna',34,50)\n",
    "veterinaria.agregar_producto('antiparasitario',28,100)"
   ]
  },
  {
   "cell_type": "code",
   "execution_count": 43,
   "metadata": {},
   "outputs": [
    {
     "data": {
      "text/plain": [
       "{'inventario': [{'nombre': 'correas', 'precio': 30, 'cantidad': 50},\n",
       "  {'nombre': 'pienso', 'precio': 40, 'cantidad': 50},\n",
       "  {'nombre': 'vacuna', 'precio': 34, 'cantidad': 50},\n",
       "  {'nombre': 'antiparasitario', 'precio': 28, 'cantidad': 100}],\n",
       " 'clientes': {},\n",
       " 'ventas_totales': 0}"
      ]
     },
     "execution_count": 43,
     "metadata": {},
     "output_type": "execute_result"
    }
   ],
   "source": [
    "veterinaria.__dict__"
   ]
  },
  {
   "cell_type": "markdown",
   "metadata": {},
   "source": [
    "Práctica método 7: "
   ]
  },
  {
   "cell_type": "code",
   "execution_count": 44,
   "metadata": {},
   "outputs": [
    {
     "name": "stdout",
     "output_type": "stream",
     "text": [
      "Inventario disponible:\n",
      "Nombre: correas, Precio: $30, Cantidad: 50\n",
      "Nombre: pienso, Precio: $40, Cantidad: 50\n",
      "Nombre: vacuna, Precio: $34, Cantidad: 50\n",
      "Nombre: antiparasitario, Precio: $28, Cantidad: 100\n",
      "Añadido al carrito\n",
      "Inventario disponible:\n",
      "Nombre: correas, Precio: $30, Cantidad: 40\n",
      "Nombre: pienso, Precio: $40, Cantidad: 50\n",
      "Nombre: vacuna, Precio: $34, Cantidad: 50\n",
      "Nombre: antiparasitario, Precio: $28, Cantidad: 100\n",
      "El producto no ha sido encontrado\n",
      "Inventario disponible:\n",
      "Nombre: correas, Precio: $30, Cantidad: 40\n",
      "Nombre: pienso, Precio: $40, Cantidad: 50\n",
      "Nombre: vacuna, Precio: $34, Cantidad: 50\n",
      "Nombre: antiparasitario, Precio: $28, Cantidad: 100\n",
      "El producto no ha sido encontrado\n",
      "Inventario disponible:\n",
      "Nombre: correas, Precio: $30, Cantidad: 40\n",
      "Nombre: pienso, Precio: $40, Cantidad: 50\n",
      "Nombre: vacuna, Precio: $34, Cantidad: 50\n",
      "Nombre: antiparasitario, Precio: $28, Cantidad: 100\n",
      "Los productos seleccionados son: [{'nombre': 'correas', 'precio': 30, 'cantidad': 10}]. El total de la compra es de $300.\n"
     ]
    }
   ],
   "source": [
    "veterinaria.realizar_compra()"
   ]
  },
  {
   "cell_type": "markdown",
   "metadata": {},
   "source": [
    "Práctica método 8:"
   ]
  },
  {
   "cell_type": "code",
   "execution_count": 45,
   "metadata": {},
   "outputs": [
    {
     "name": "stdout",
     "output_type": "stream",
     "text": [
      "La cantidad ingresada es inferior al monto total de la compra. Por favor, ingresa una cantidad válida.\n",
      "Pago aceptado. El total de la compra es $30.0. El pago realizado es de $44.0. El cambio es de $14.0.\n"
     ]
    }
   ],
   "source": [
    "veterinaria.procesar_pago()"
   ]
  },
  {
   "cell_type": "markdown",
   "metadata": {},
   "source": [
    "Práctica método 9:"
   ]
  },
  {
   "cell_type": "code",
   "execution_count": 46,
   "metadata": {},
   "outputs": [
    {
     "name": "stdout",
     "output_type": "stream",
     "text": [
      "Se ha añadido el cliente: Maria y su correo electrónico: maria2020@gmail.com\n"
     ]
    }
   ],
   "source": [
    "veterinaria.agregar_cliente('Maria', 'maria2020@gmail.com')"
   ]
  },
  {
   "cell_type": "code",
   "execution_count": 47,
   "metadata": {},
   "outputs": [
    {
     "data": {
      "text/plain": [
       "{'inventario': [{'nombre': 'correas', 'precio': 30, 'cantidad': 40},\n",
       "  {'nombre': 'pienso', 'precio': 40, 'cantidad': 50},\n",
       "  {'nombre': 'vacuna', 'precio': 34, 'cantidad': 50},\n",
       "  {'nombre': 'antiparasitario', 'precio': 28, 'cantidad': 100}],\n",
       " 'clientes': {'Maria': 'maria2020@gmail.com'},\n",
       " 'ventas_totales': 0}"
      ]
     },
     "execution_count": 47,
     "metadata": {},
     "output_type": "execute_result"
    }
   ],
   "source": [
    "veterinaria.__dict__"
   ]
  },
  {
   "cell_type": "code",
   "execution_count": 48,
   "metadata": {},
   "outputs": [
    {
     "name": "stdout",
     "output_type": "stream",
     "text": [
      "Se ha añadido el cliente: Pedro y su correo electrónico: pedro44@gmail.com\n"
     ]
    }
   ],
   "source": [
    "veterinaria.agregar_cliente('Pedro', 'pedro44@gmail.com')"
   ]
  },
  {
   "cell_type": "code",
   "execution_count": 49,
   "metadata": {},
   "outputs": [
    {
     "data": {
      "text/plain": [
       "{'inventario': [{'nombre': 'correas', 'precio': 30, 'cantidad': 40},\n",
       "  {'nombre': 'pienso', 'precio': 40, 'cantidad': 50},\n",
       "  {'nombre': 'vacuna', 'precio': 34, 'cantidad': 50},\n",
       "  {'nombre': 'antiparasitario', 'precio': 28, 'cantidad': 100}],\n",
       " 'clientes': {'Maria': 'maria2020@gmail.com', 'Pedro': 'pedro44@gmail.com'},\n",
       " 'ventas_totales': 0}"
      ]
     },
     "execution_count": 49,
     "metadata": {},
     "output_type": "execute_result"
    }
   ],
   "source": [
    "veterinaria.__dict__"
   ]
  },
  {
   "cell_type": "markdown",
   "metadata": {},
   "source": [
    "Práctica método 10:"
   ]
  },
  {
   "cell_type": "code",
   "execution_count": 50,
   "metadata": {},
   "outputs": [
    {
     "name": "stdout",
     "output_type": "stream",
     "text": [
      "Listado de clientes:\n",
      "Nombre: Maria - Correo elecrónico: maria2020@gmail.com\n",
      "Nombre: Pedro - Correo elecrónico: pedro44@gmail.com\n"
     ]
    }
   ],
   "source": [
    "veterinaria.ver_clientes()"
   ]
  },
  {
   "cell_type": "markdown",
   "metadata": {},
   "source": [
    "Práctica método 11: "
   ]
  },
  {
   "cell_type": "code",
   "execution_count": 51,
   "metadata": {},
   "outputs": [],
   "source": [
    "#Creo variable carrito para la práctica del método: \n",
    "carrito = [{'nombre':'correas', 'precio':30, 'cantidad': 10}]"
   ]
  },
  {
   "cell_type": "code",
   "execution_count": 52,
   "metadata": {},
   "outputs": [
    {
     "name": "stdout",
     "output_type": "stream",
     "text": [
      "El total de la compra es de $300\n",
      "El historial del cliente Maria es: [{'nombre': 'correas', 'cantidad': 10, 'precio': 30}]\n"
     ]
    }
   ],
   "source": [
    "veterinaria.registrar_compra('Maria', carrito)"
   ]
  },
  {
   "cell_type": "code",
   "execution_count": 53,
   "metadata": {},
   "outputs": [
    {
     "data": {
      "text/plain": [
       "{'inventario': [{'nombre': 'correas', 'precio': 30, 'cantidad': 40},\n",
       "  {'nombre': 'pienso', 'precio': 40, 'cantidad': 50},\n",
       "  {'nombre': 'vacuna', 'precio': 34, 'cantidad': 50},\n",
       "  {'nombre': 'antiparasitario', 'precio': 28, 'cantidad': 100}],\n",
       " 'clientes': {'Maria': 'maria2020@gmail.com', 'Pedro': 'pedro44@gmail.com'},\n",
       " 'ventas_totales': 300}"
      ]
     },
     "execution_count": 53,
     "metadata": {},
     "output_type": "execute_result"
    }
   ],
   "source": [
    "veterinaria.__dict__"
   ]
  }
 ],
 "metadata": {
  "kernelspec": {
   "display_name": "Python 3",
   "language": "python",
   "name": "python3"
  },
  "language_info": {
   "codemirror_mode": {
    "name": "ipython",
    "version": 3
   },
   "file_extension": ".py",
   "mimetype": "text/x-python",
   "name": "python",
   "nbconvert_exporter": "python",
   "pygments_lexer": "ipython3",
   "version": "3.11.9"
  }
 },
 "nbformat": 4,
 "nbformat_minor": 2
}
