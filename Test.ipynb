{
 "cells": [
  {
   "cell_type": "code",
   "execution_count": 57,
   "metadata": {},
   "outputs": [],
   "source": [
    "#Creo la clase y defino los atributos:\n",
    "class TiendaOnline: \n",
    "\n",
    "    def __init__(self):\n",
    "        \n",
    "        self.inventario = [] \n",
    "        self.clientes = {} \n",
    "        self.ventas_totales = 0\n",
    "    \n",
    "  # Primer Método - Agregar producto: creo un método para agregar productos al inventario: \n",
    "\n",
    "    def agregar_producto(self, nombre_producto, precio, cantidad): \n",
    "\n",
    "        #Creo la variable producto para representarlo como un diccionario que se incluirá en la lista. \n",
    "        producto = {'nombre': nombre_producto, 'precio': precio, 'cantidad': cantidad}\n",
    "\n",
    "        #Itero por los diccionarios (i) del inventario para actualizar la cantidad del producto a añadir: \n",
    "        for i in self.inventario: \n",
    "            if i['nombre'] == producto['nombre']: \n",
    "                i['cantidad'] += producto['cantidad']\n",
    "                print(f'La cantidad de {nombre_producto} ha sido actualizada. Ahora hay {i[\"cantidad\"]} {nombre_producto}.')\n",
    "                break\n",
    "        #Si el producto no está en el inventario, se añade a la lista. \n",
    "        else:\n",
    "            self.inventario.append(producto)\n",
    "            print('El producto se ha añadido al inventario.')\n",
    "\n",
    "\n",
    "  # Segundo Método - Ver inventario: creo un método para mostrar los productos del inventario: \n",
    "\n",
    "    def ver_inventario(self):\n",
    "\n",
    "        #Imprimo título:\n",
    "        print('Inventario disponible:')\n",
    "        #Creo un bucle for para que recorra cada diccionario (i) e imprima cada una de las claves del diccionario (nombre, precio y cantidad)\n",
    "        for i in self.inventario:\n",
    "            print(f\"Nombre: {i['nombre']}, Precio: ${i['precio']}, Cantidad: {i['cantidad']}\")\n",
    "        \n",
    "       \n",
    "\n",
    "  # Tercer Método - Buscar productos: creo un método para buscar productos en el inventario: \n",
    "    \n",
    "    def buscar_producto(self,nombre): \n",
    "\n",
    "        #Creo un bucle for para que itere en cada diccionario de la lista. Si el diccionario (i) en su clave 'nombre' coincide con el nombre proporcionado en la función, se imprimen los detalles:\n",
    "        for i in self.inventario:  \n",
    "\n",
    "          if i['nombre'] == nombre:\n",
    "            print(f\"Nombre: {i['nombre']}, Precio: ${i['precio']}, Cantidad: {i['cantidad']}.\")\n",
    "            break \n",
    "\n",
    "        else: \n",
    "            print('El producto no se encuentra en el inventario')\n",
    "         \n",
    "\n",
    "  # Cuarto Método - Actualizar stock: creo un método para actualizar el stock de un producto:\n",
    "\n",
    "    def actualizar_stock(self,nombre,cantidad): \n",
    "        \n",
    "        #Creo un bucle for para verificar si dentro de cada diccionarios (i) el nombre coincide con el proporcionado por el usuario. De ser asi, se añade la cantidad proporcionada. \n",
    "        for i in self.inventario: \n",
    "            \n",
    "            if i['nombre'] == nombre: \n",
    "                i['cantidad'] += cantidad\n",
    "                print(f\"Se ha actualizado el stock del producto. La cantidad disponible actualmente es de: {i['cantidad']} {i['nombre']}.\")\n",
    "                break \n",
    "            \n",
    "        else:\n",
    "           print('El producto no se encuentra en el inventario.')\n",
    "\n",
    "\n",
    "# Quinto Método - Eliminar producto: creo un método para eliminar un producto del inventario: \n",
    "\n",
    "    def eliminar_producto(self,nombre):\n",
    "       \n",
    "      #Creo un bucle for para que verifique si el producto está en el inventario. Si es así, se elimina y se envia mensaje de confirmación. \n",
    "      for i in self.inventario: \n",
    "           \n",
    "           if i['nombre'] == nombre: \n",
    "               self.inventario.remove(i) \n",
    "               print(f\"El producto: {i['nombre']} se ha eliminado del inventario.\")\n",
    "               break\n",
    "      else: \n",
    "          print('El producto no se encuentra en el inventario.')\n",
    "\n",
    "\n",
    "# Sexto Método - Calcular valor inventario: creo un método para calcular el valor total del inventario:\n",
    "\n",
    "    def calcular_valor_inventario(self):\n",
    "     \n",
    "     #Cre una variable para almacenar el total de los valores del inventario: \n",
    "     suma_valores = 0\n",
    "     \n",
    "     #Creo un bucle for para que itere por cada diccionario (i) + Creo variable 'multi' para que multiplique la cantidad por el precio de cada producto. Luego eso se añade a la variable 'suma_valores'.\n",
    "     for i in self.inventario:\n",
    "        multi = i['cantidad'] * i['precio']\n",
    "        suma_valores += multi\n",
    "     #Imprimo a la altura del for para evitar que aparezca una linea por cada multiplicación. \n",
    "     print(f'El valor total del inventario es de ${suma_valores}.') \n",
    "\n",
    "# Séptimo Método - Realizar compra: el cliente realiza una compra. Se actualiza el inventario, se registran los productos en un carrito y se obtiene el total de la compra. \n",
    "\n",
    "    def realizar_compra(self):\n",
    "        #Creo dos variables vacías: 'carrito' (lista vacia para añadir los productos) y 'total_compra' para que se sume el total de la compra. \n",
    "        carrito = []\n",
    "        total_compra = 0\n",
    "        \n",
    "        #Creo un bucle while para que el bucle se ejecute hasta que el usuario finalice la compra. \n",
    "        while True:\n",
    "            \n",
    "            self.ver_inventario()\n",
    "            \n",
    "            seleccion_usuario = input(\"Escoge un producto del inventario o indica 'salir' para finalizar la compra: \")\n",
    "            \n",
    "            if seleccion_usuario == 'salir':\n",
    "                break\n",
    "            \n",
    "            #Creo un bucle for para que verifique si el producto seleccionado coincide con la clave 'nombre' de los productos del inventario. Si es asi, se solicita la cantidad al usuario. \n",
    "            for i in self.inventario:\n",
    "                if i['nombre'] == seleccion_usuario:\n",
    "                    cantidad = int(input(f\"¿Cuántos {seleccion_usuario} deseas comprar?: \"))\n",
    "\n",
    "                    #Utilizo if para verificar si la cantidad disponible en el inventario es mayor a la que solicitó el usuario. Si hay suficiente, se calcula el total de la compra y se añade el producto al carrito. \n",
    "                    if i['cantidad'] >= cantidad:\n",
    "                        total_compra += i['precio'] * cantidad\n",
    "                        i['cantidad'] -= cantidad\n",
    "                        carrito.append({'nombre': i['nombre'], 'precio': i['precio'], 'cantidad': cantidad}) \n",
    "\n",
    "                        print('Añadido al carrito')\n",
    "                    else:\n",
    "                        print('No hay stock suficiente')\n",
    "                    break\n",
    "            else:\n",
    "                print('El producto no ha sido encontrado')\n",
    "\n",
    "        print(f\"Los productos seleccionados son: {carrito}. El total de la compra es de ${total_compra}.\")\n",
    "\n",
    "\n",
    "# Octavo Método - Procesar pago: Procesa el pago de la compra, calcula el cambio y muestra un mensaje de confirmación: \n",
    "\n",
    "    \n",
    "    def procesar_pago(self): \n",
    "\n",
    "        #Creo bucle para que el usuario ingrese una cantidad hasta que sea válida.       \n",
    "        while True: \n",
    "            \n",
    "            #Solicito al usuario el total de la compra (float para decimales) y el pago. Utilizo if para comprobar si el pago es menor que la cantidad total (en ese caso se indica que vuelva a ingresar una cantidad válida y un continue para reiniciar el bucle)\n",
    "            try: \n",
    "                total = float(input('Indica el total de la compra'))\n",
    "                pago = float(input('Ingresa el pago'))\n",
    " \n",
    "                if pago < total: \n",
    "                    print('La cantidad ingresada es inferior al monto total de la compra. Por favor, ingresa una cantidad válida.')\n",
    "                    continue \n",
    "\n",
    "                cambio = pago - total \n",
    "                print(f'Pago aceptado. El total de la compra es ${total}. El pago realizado es de ${pago}. El cambio es de ${cambio}.')\n",
    "                break \n",
    "\n",
    "            #Si el user ingresa un dato que no es válido, se imprime el mensaje de error. \n",
    "            except ValueError:\n",
    "                print('La cantidad ingresada no es un número válido')\n",
    "\n",
    "# Noveno Método - Agregar cliente: agrega un nuevo cliente al registro de clientes.\n",
    " \n",
    "    def agregar_cliente(self,nombre,email): \n",
    "        \n",
    "        #Utilizo el nombre como key del diccionario (para que no se sobreescriba en cada entrada) y el email como value. \n",
    "        self.clientes[nombre] = email\n",
    "        \n",
    "        print(f\"Se ha añadido el cliente: {nombre} y su correo electrónico: {email}\")\n",
    "\n",
    "# Décimo Método - Ver clientes: muestra la lista de clientes registrados con sus nombres y correos electrónicos.\n",
    "\n",
    "    def ver_clientes(self):\n",
    "        \n",
    "        #Imprimo 'Listado de clientes' para describir la lista que va a continuación.\n",
    "        print('Listado de clientes:')\n",
    "    \n",
    "        #Creo un bucle for para que imprima clave (i) y valor del diccionario (b): \n",
    "        for i,b in self.clientes.items():\n",
    "            print(f\"Nombre: {i} - Correo elecrónico: {b}\")\n",
    "\n",
    "# Onceavo Método - Registrar compra: registra una compra para un cliente, actualiza las ventas totales y agrega la compra al historial del cliente. Debe recibir el nombre del cliente y el carrito de compras como parámetros.\n",
    "\n",
    "    def registrar_compra(self, nombre_cliente, carrito):\n",
    "\n",
    "        #Creo una variable vacía para rellenarla con el historial de compras del cliente. \n",
    "        historial = []\n",
    "        #Utilizo If para comprobar si el nombre del cliente no está en el listado. \n",
    "        if nombre_cliente not in self.clientes: \n",
    "            print('El cliente no se encuentra en el listado.')\n",
    "\n",
    "        #Si el nombre del cliente está en el listado, creo una variable para verificar el total de la compra. \n",
    "        else: \n",
    "            total_compra = 0\n",
    "\n",
    "            #Creo un bucle for para que itere por cada elemento (i) dentro del carrito. Creo variables para guardar el nombre, precio y cantidad del producto. \n",
    "            for i in carrito: \n",
    "                nombre = i['nombre']\n",
    "                precio = i['precio']\n",
    "                cantidad = i['cantidad']\n",
    "\n",
    "            #Calculo el total de la compra multiplicando el precio del producto por la cantidad. \n",
    "            total_compra += precio * cantidad\n",
    "\n",
    "            #Se añaden los detalles de la compra a la variable historial.\n",
    "            historial.append({'nombre': nombre, 'cantidad': cantidad, 'precio': precio})\n",
    "\n",
    "        #Se añade la compra a las ventas totales:\n",
    "        self.ventas_totales += total_compra\n",
    "\n",
    "        print(f'El total de la compra es de ${total_compra}')\n",
    "        print(f'El historial del cliente {nombre_cliente} es: {historial}')"
   ]
  },
  {
   "cell_type": "code",
   "execution_count": 58,
   "metadata": {},
   "outputs": [],
   "source": [
    "supermercado = TiendaOnline()"
   ]
  },
  {
   "cell_type": "code",
   "execution_count": 59,
   "metadata": {},
   "outputs": [
    {
     "name": "stdout",
     "output_type": "stream",
     "text": [
      "El producto se ha añadido al inventario.\n"
     ]
    }
   ],
   "source": [
    "supermercado.agregar_producto('manzana', 2, 30)"
   ]
  },
  {
   "cell_type": "code",
   "execution_count": 60,
   "metadata": {},
   "outputs": [
    {
     "name": "stdout",
     "output_type": "stream",
     "text": [
      "El producto se ha añadido al inventario.\n"
     ]
    }
   ],
   "source": [
    "supermercado.agregar_producto('leche',4,50)"
   ]
  },
  {
   "cell_type": "code",
   "execution_count": 61,
   "metadata": {},
   "outputs": [
    {
     "name": "stdout",
     "output_type": "stream",
     "text": [
      "Inventario disponible:\n",
      "Nombre: manzana, Precio: $2, Cantidad: 30\n",
      "Nombre: leche, Precio: $4, Cantidad: 50\n"
     ]
    }
   ],
   "source": [
    "supermercado.ver_inventario()"
   ]
  },
  {
   "cell_type": "code",
   "execution_count": 62,
   "metadata": {},
   "outputs": [
    {
     "name": "stdout",
     "output_type": "stream",
     "text": [
      "El producto no se encuentra en el inventario\n"
     ]
    }
   ],
   "source": [
    "supermercado.buscar_producto('Naranja')"
   ]
  },
  {
   "cell_type": "code",
   "execution_count": 63,
   "metadata": {},
   "outputs": [
    {
     "name": "stdout",
     "output_type": "stream",
     "text": [
      "Nombre: manzana, Precio: $2, Cantidad: 30.\n"
     ]
    }
   ],
   "source": [
    "supermercado.buscar_producto('manzana')"
   ]
  },
  {
   "cell_type": "code",
   "execution_count": 64,
   "metadata": {},
   "outputs": [
    {
     "name": "stdout",
     "output_type": "stream",
     "text": [
      "El producto no se encuentra en el inventario.\n"
     ]
    }
   ],
   "source": [
    "supermercado.actualizar_stock('xnxn',7)"
   ]
  },
  {
   "cell_type": "code",
   "execution_count": 65,
   "metadata": {},
   "outputs": [
    {
     "name": "stdout",
     "output_type": "stream",
     "text": [
      "El producto se ha añadido al inventario.\n"
     ]
    }
   ],
   "source": [
    "supermercado.agregar_producto('sandia', 8, 17)"
   ]
  },
  {
   "cell_type": "code",
   "execution_count": 66,
   "metadata": {},
   "outputs": [
    {
     "name": "stdout",
     "output_type": "stream",
     "text": [
      "El producto: sandia se ha eliminado del inventario.\n"
     ]
    }
   ],
   "source": [
    "supermercado.eliminar_producto('sandia')"
   ]
  },
  {
   "cell_type": "code",
   "execution_count": 67,
   "metadata": {},
   "outputs": [
    {
     "data": {
      "text/plain": [
       "{'inventario': [{'nombre': 'manzana', 'precio': 2, 'cantidad': 30},\n",
       "  {'nombre': 'leche', 'precio': 4, 'cantidad': 50}],\n",
       " 'clientes': {},\n",
       " 'ventas_totales': 0}"
      ]
     },
     "execution_count": 67,
     "metadata": {},
     "output_type": "execute_result"
    }
   ],
   "source": [
    "supermercado.__dict__"
   ]
  },
  {
   "cell_type": "code",
   "execution_count": 68,
   "metadata": {},
   "outputs": [
    {
     "name": "stdout",
     "output_type": "stream",
     "text": [
      "El valor total del inventario es de $260.\n"
     ]
    }
   ],
   "source": [
    "supermercado.calcular_valor_inventario()"
   ]
  },
  {
   "cell_type": "code",
   "execution_count": 69,
   "metadata": {},
   "outputs": [
    {
     "name": "stdout",
     "output_type": "stream",
     "text": [
      "Inventario disponible:\n",
      "Nombre: manzana, Precio: $2, Cantidad: 30\n",
      "Nombre: leche, Precio: $4, Cantidad: 50\n",
      "El producto no ha sido encontrado\n",
      "Inventario disponible:\n",
      "Nombre: manzana, Precio: $2, Cantidad: 30\n",
      "Nombre: leche, Precio: $4, Cantidad: 50\n",
      "El producto no ha sido encontrado\n",
      "Inventario disponible:\n",
      "Nombre: manzana, Precio: $2, Cantidad: 30\n",
      "Nombre: leche, Precio: $4, Cantidad: 50\n",
      "Los productos seleccionados son: []. El total de la compra es de $0.\n"
     ]
    }
   ],
   "source": [
    "supermercado.realizar_compra()"
   ]
  },
  {
   "cell_type": "code",
   "execution_count": 70,
   "metadata": {},
   "outputs": [
    {
     "name": "stdout",
     "output_type": "stream",
     "text": [
      "La cantidad ingresada no es un número válido\n",
      "Pago aceptado. El total de la compra es $20.0. El pago realizado es de $40.0. El cambio es de $20.0.\n"
     ]
    }
   ],
   "source": [
    "supermercado.procesar_pago()"
   ]
  },
  {
   "cell_type": "code",
   "execution_count": 71,
   "metadata": {},
   "outputs": [
    {
     "name": "stdout",
     "output_type": "stream",
     "text": [
      "Se ha añadido el cliente: Matias y su correo electrónico: matias@gmail.com\n"
     ]
    }
   ],
   "source": [
    "supermercado.agregar_cliente('Matias','matias@gmail.com')"
   ]
  },
  {
   "cell_type": "code",
   "execution_count": 72,
   "metadata": {},
   "outputs": [
    {
     "name": "stdout",
     "output_type": "stream",
     "text": [
      "Se ha añadido el cliente: Juana y su correo electrónico: juana@gmail.com\n"
     ]
    }
   ],
   "source": [
    "supermercado.agregar_cliente('Juana','juana@gmail.com')"
   ]
  },
  {
   "cell_type": "code",
   "execution_count": 73,
   "metadata": {},
   "outputs": [
    {
     "name": "stdout",
     "output_type": "stream",
     "text": [
      "Listado de clientes:\n",
      "Nombre: Matias - Correo elecrónico: matias@gmail.com\n",
      "Nombre: Juana - Correo elecrónico: juana@gmail.com\n"
     ]
    }
   ],
   "source": [
    "supermercado.ver_clientes()"
   ]
  },
  {
   "cell_type": "code",
   "execution_count": 74,
   "metadata": {},
   "outputs": [],
   "source": [
    "carrito = [{'nombre':'bananas', 'precio':30, 'cantidad': 10}]"
   ]
  },
  {
   "cell_type": "code",
   "execution_count": 75,
   "metadata": {},
   "outputs": [
    {
     "name": "stdout",
     "output_type": "stream",
     "text": [
      "El total de la compra es de $300\n",
      "El historial del cliente Matias es: [{'nombre': 'bananas', 'cantidad': 10, 'precio': 30}]\n"
     ]
    }
   ],
   "source": [
    "supermercado.registrar_compra('Matias', carrito)"
   ]
  }
 ],
 "metadata": {
  "kernelspec": {
   "display_name": "Python 3",
   "language": "python",
   "name": "python3"
  },
  "language_info": {
   "codemirror_mode": {
    "name": "ipython",
    "version": 3
   },
   "file_extension": ".py",
   "mimetype": "text/x-python",
   "name": "python",
   "nbconvert_exporter": "python",
   "pygments_lexer": "ipython3",
   "version": "3.11.9"
  }
 },
 "nbformat": 4,
 "nbformat_minor": 2
}
